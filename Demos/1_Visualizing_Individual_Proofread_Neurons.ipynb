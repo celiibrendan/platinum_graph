{
 "cells": [
  {
   "cell_type": "code",
   "execution_count": null,
   "metadata": {},
   "outputs": [],
   "source": [
    "\"\"\"\n",
    "Purpose: To visualize a proofread neuron\n",
    "in both ipyvolume and neuroglancer\n",
    "\n",
    "\"\"\""
   ]
  },
  {
   "cell_type": "markdown",
   "metadata": {},
   "source": [
    "# Setting up Access to meshAfterParty package"
   ]
  },
  {
   "cell_type": "code",
   "execution_count": 1,
   "metadata": {},
   "outputs": [],
   "source": [
    "%load_ext autoreload\n",
    "%autoreload 2"
   ]
  },
  {
   "cell_type": "code",
   "execution_count": 2,
   "metadata": {},
   "outputs": [],
   "source": [
    "from os import sys\n",
    "sys.path.append(\"/meshAfterParty/meshAfterParty/\")"
   ]
  },
  {
   "cell_type": "code",
   "execution_count": 6,
   "metadata": {},
   "outputs": [
    {
     "name": "stderr",
     "output_type": "stream",
     "text": [
      "INFO - 2021-09-13 03:01:38,054 - settings - Setting database.host to at-database.ad.bcm.edu\n",
      "INFO - 2021-09-13 03:01:38,060 - settings - Setting database.user to celiib\n",
      "INFO - 2021-09-13 03:01:38,061 - settings - Setting database.password to newceliipass\n",
      "INFO - 2021-09-13 03:01:38,062 - settings - Setting database.host to at-database.ad.bcm.edu\n",
      "INFO - 2021-09-13 03:01:38,063 - settings - Setting database.user to celiib\n",
      "INFO - 2021-09-13 03:01:38,064 - settings - Setting database.password to newceliipass\n",
      "INFO - 2021-09-13 03:01:38,069 - settings - Setting stores to {'minnie65': {'protocol': 'file', 'location': '/mnt/dj-stor01/platinum/minnie65', 'stage': '/mnt/dj-stor01/platinum/minnie65'}, 'meshes': {'protocol': 'file', 'location': '/mnt/dj-stor01/platinum/minnie65/02/meshes', 'stage': '/mnt/dj-stor01/platinum/minnie65/02/meshes'}, 'decimated_meshes': {'protocol': 'file', 'location': '/mnt/dj-stor01/platinum/minnie65/02/decimated_meshes', 'stage': '/mnt/dj-stor01/platinum/minnie65/02/decimated_meshes'}, 'skeletons': {'protocol': 'file', 'location': '/mnt/dj-stor01/platinum/minnie65/02/skeletons'}}\n",
      "INFO - 2021-09-13 03:01:38,070 - settings - Setting enable_python_native_blobs to True\n",
      "INFO - 2021-09-13 03:01:38,084 - connection - Connected celiib@at-database.ad.bcm.edu:3306\n"
     ]
    },
    {
     "name": "stdout",
     "output_type": "stream",
     "text": [
      "Connecting celiib@at-database.ad.bcm.edu:3306\n"
     ]
    },
    {
     "name": "stderr",
     "output_type": "stream",
     "text": [
      "INFO - 2021-09-13 03:01:38,792 - settings - Setting enable_python_native_blobs to True\n",
      "INFO - 2021-09-13 03:01:38,863 - settings - Setting database.host to at-database.ad.bcm.edu\n",
      "INFO - 2021-09-13 03:01:38,864 - settings - Setting database.user to celiib\n",
      "INFO - 2021-09-13 03:01:38,866 - settings - Setting database.password to newceliipass\n",
      "INFO - 2021-09-13 03:01:38,869 - settings - Setting enable_python_native_blobs to True\n",
      "INFO - 2021-09-13 03:01:39,647 - settings - Setting enable_python_native_blobs to True\n",
      "INFO - 2021-09-13 03:01:39,738 - settings - Setting database.host to at-database.ad.bcm.edu\n",
      "INFO - 2021-09-13 03:01:39,740 - settings - Setting database.user to celiib\n",
      "INFO - 2021-09-13 03:01:39,741 - settings - Setting database.password to newceliipass\n",
      "INFO - 2021-09-13 03:01:39,742 - settings - Setting database.host to at-database.ad.bcm.edu\n",
      "INFO - 2021-09-13 03:01:39,744 - settings - Setting database.user to celiib\n",
      "INFO - 2021-09-13 03:01:39,745 - settings - Setting database.password to newceliipass\n",
      "INFO - 2021-09-13 03:01:39,751 - settings - Setting enable_python_native_blobs to True\n",
      "INFO - 2021-09-13 03:01:40,622 - settings - Setting enable_python_native_blobs to True\n"
     ]
    }
   ],
   "source": [
    "import proofread_verification as pv\n",
    "import datajoint_utils as du"
   ]
  },
  {
   "cell_type": "markdown",
   "metadata": {},
   "source": [
    "# Listing the Proofread Neurons in the Database"
   ]
  },
  {
   "cell_type": "code",
   "execution_count": null,
   "metadata": {},
   "outputs": [],
   "source": [
    "du.proofreading_neurons_table()"
   ]
  },
  {
   "cell_type": "markdown",
   "metadata": {},
   "source": [
    "# Selecting a Subset of Proofread Neurons"
   ]
  },
  {
   "cell_type": "code",
   "execution_count": null,
   "metadata": {},
   "outputs": [],
   "source": [
    "(du.proofreading_neurons_table()\n",
    "    & \"cell_type = 'excitatory'\" \n",
    "    & 'axon_skeletal_length > 1000000'\n",
    "    & 'apical_total_skeletal_length > 1000000')"
   ]
  },
  {
   "cell_type": "markdown",
   "metadata": {},
   "source": [
    "# Picking the Neuron and Visualizing it"
   ]
  },
  {
   "cell_type": "code",
   "execution_count": null,
   "metadata": {},
   "outputs": [],
   "source": [
    "segment_id = 864691134917416714\n",
    "split_index = 0"
   ]
  },
  {
   "cell_type": "code",
   "execution_count": null,
   "metadata": {},
   "outputs": [],
   "source": [
    "pv.plot_proofread_neuron(\n",
    "    segment_id,\n",
    "    split_index,\n",
    "                        )"
   ]
  },
  {
   "cell_type": "code",
   "execution_count": null,
   "metadata": {},
   "outputs": [],
   "source": [
    "pv.plot_proofread_neuron(\n",
    "    segment_id,\n",
    "    split_index,\n",
    "    plot_synapses=False,\n",
    "                        )"
   ]
  },
  {
   "cell_type": "code",
   "execution_count": null,
   "metadata": {},
   "outputs": [],
   "source": [
    "pv.plot_proofread_neuron(\n",
    "    segment_id,\n",
    "    split_index,\n",
    "    plot_synapses=True,\n",
    "    synapse_plot_type=\"valid_presyn_postsyn\",\n",
    "    plot_error_synapses=False,\n",
    "    plot_error_mesh=False,\n",
    "    \n",
    "                        )"
   ]
  },
  {
   "cell_type": "markdown",
   "metadata": {},
   "source": [
    "# how to construct own synapse queries and colors"
   ]
  },
  {
   "cell_type": "code",
   "execution_count": null,
   "metadata": {},
   "outputs": [],
   "source": [
    "\"\"\"\n",
    "Notes on querying synapses: \n",
    "\n",
    "- error synapses have soma distance of -1\n",
    "- soma synapses also have soma distance of -2 (but compartment is also labeled soma)\n",
    "- head/neck/shaft is the category for the \n",
    "spine classification (includes boutons/non_boutons)\n",
    "\n",
    "{'no_label': -1,\n",
    " 'head': 0,\n",
    " 'neck': 1,\n",
    " 'shaft': 2,\n",
    " 'no_head': 3,\n",
    " 'bouton': 4,\n",
    " 'non_bouton': 5}\n",
    "\n",
    "\"\"\""
   ]
  },
  {
   "cell_type": "code",
   "execution_count": null,
   "metadata": {},
   "outputs": [],
   "source": [
    "import synapse_utils as syu\n",
    "synapses_objs = pv.syanpse_objs_from_segment_id(segment_id,\n",
    "                                                split_index)\n",
    "spine_relevant_features = [\"syn_id\",\n",
    "                           \"syn_type\",\n",
    "                           \"volume\",\n",
    "                           \"soma_distance\",\n",
    "                           \"head_neck_shaft\",\n",
    "                           \"compartment\",]\n",
    "syn_df = syu.synapses_df(synapses_objs)[spine_relevant_features]\n",
    "syn_df"
   ]
  },
  {
   "cell_type": "code",
   "execution_count": null,
   "metadata": {},
   "outputs": [],
   "source": [
    "syanpse_queries = [\n",
    "    \"(syn_type=='presyn') and (compartment == 'axon') and (soma_distance < 100000)\",\n",
    "    \"(syn_type=='presyn') and (compartment == 'axon') and (soma_distance >= 100000)\"\n",
    "]\n",
    "\n",
    "syanpse_colors = [\"blue\",\"aqua\"]\n",
    "\n",
    "pv.plot_proofread_neuron(segment_id,\n",
    "                        split_index,\n",
    "                         plot_error_mesh=False,\n",
    "                        plot_synapses=True,\n",
    "                         plot_error_synapses=False,\n",
    "                        synapse_queries=syanpse_queries,\n",
    "                        synapse_queries_colors=syanpse_colors,\n",
    "                        syanses_size = 0.3)"
   ]
  },
  {
   "cell_type": "markdown",
   "metadata": {},
   "source": [
    "# Multiple Neuron Visualizations"
   ]
  },
  {
   "cell_type": "code",
   "execution_count": null,
   "metadata": {},
   "outputs": [],
   "source": [
    "import allen_utils as alu\n",
    "\n",
    "\n",
    "print(f\"Allen Proofreading Bounding Box Corners:\")\n",
    "print(alu.allen_column_bounding_box_corners)\n",
    "print(f\"Allen Proofreading Bbox Center:\")\n",
    "print(alu.allen_column_bounding_box_center)\n"
   ]
  },
  {
   "cell_type": "code",
   "execution_count": null,
   "metadata": {},
   "outputs": [],
   "source": [
    "x_radius = y_radius= z_radius = 100_000\n",
    "\n",
    "allen_center = alu.allen_column_bounding_box_center\n",
    "(du.proofreading_neurons_table() \n",
    " & f\"(soma_x_nm < {allen_center[0] + x_radius}) AND (soma_x_nm > {allen_center[0] - x_radius})\"\n",
    " & f\"(soma_y_nm < {allen_center[1] + y_radius}) AND (soma_y_nm > {allen_center[1] - y_radius})\"\n",
    " & f\"(soma_z_nm < {allen_center[2] + z_radius}) AND (soma_z_nm > {allen_center[2] - z_radius})\"\n",
    ")"
   ]
  },
  {
   "cell_type": "markdown",
   "metadata": {},
   "source": [
    "# Stacking Together Automatically (but uses the same parameter settings)"
   ]
  },
  {
   "cell_type": "code",
   "execution_count": 4,
   "metadata": {},
   "outputs": [],
   "source": [
    "seg_1,split_1 = 864691134964458783,0\n",
    "seg_2,split_2 = 864691134884754682,0\n",
    "seg_3,split_3 = 864691134884952570,0"
   ]
  },
  {
   "cell_type": "code",
   "execution_count": 5,
   "metadata": {},
   "outputs": [
    {
     "ename": "NameError",
     "evalue": "name 'pv' is not defined",
     "output_type": "error",
     "traceback": [
      "\u001b[0;31m---------------------------------------------------------------------------\u001b[0m",
      "\u001b[0;31mNameError\u001b[0m                                 Traceback (most recent call last)",
      "\u001b[0;32m<ipython-input-5-b7f25d5db012>\u001b[0m in \u001b[0;36m<module>\u001b[0;34m\u001b[0m\n\u001b[0;32m----> 1\u001b[0;31m pv.plot_multiple_proofread_neuron(\n\u001b[0m\u001b[1;32m      2\u001b[0m \u001b[0msegment_ids\u001b[0m \u001b[0;34m=\u001b[0m \u001b[0;34m[\u001b[0m\u001b[0mseg_1\u001b[0m\u001b[0;34m,\u001b[0m\u001b[0mseg_2\u001b[0m\u001b[0;34m]\u001b[0m\u001b[0;34m,\u001b[0m\u001b[0;31m#,seg_3],\u001b[0m\u001b[0;34m\u001b[0m\u001b[0;34m\u001b[0m\u001b[0m\n\u001b[1;32m      3\u001b[0m     \u001b[0msplit_indexes\u001b[0m \u001b[0;34m=\u001b[0m \u001b[0;34m[\u001b[0m\u001b[0msplit_1\u001b[0m\u001b[0;34m,\u001b[0m\u001b[0msplit_2\u001b[0m\u001b[0;34m]\u001b[0m\u001b[0;34m,\u001b[0m\u001b[0;31m#,split_3],\u001b[0m\u001b[0;34m\u001b[0m\u001b[0;34m\u001b[0m\u001b[0m\n\u001b[1;32m      4\u001b[0m     \u001b[0mproofread_mesh_color\u001b[0m \u001b[0;34m=\u001b[0m \u001b[0;34m[\u001b[0m\u001b[0;34m\"red\"\u001b[0m\u001b[0;34m,\u001b[0m\u001b[0;34m\"blue\"\u001b[0m\u001b[0;34m,\u001b[0m\u001b[0;34m\"purple\"\u001b[0m\u001b[0;34m]\u001b[0m\u001b[0;34m,\u001b[0m\u001b[0;34m\u001b[0m\u001b[0;34m\u001b[0m\u001b[0m\n\u001b[1;32m      5\u001b[0m     \u001b[0msynapse_plot_type\u001b[0m \u001b[0;34m=\u001b[0m \u001b[0;34m\"valid_presyn_postsyn\"\u001b[0m\u001b[0;34m,\u001b[0m\u001b[0;34m\u001b[0m\u001b[0;34m\u001b[0m\u001b[0m\n",
      "\u001b[0;31mNameError\u001b[0m: name 'pv' is not defined"
     ]
    }
   ],
   "source": [
    "pv.plot_multiple_proofread_neuron(\n",
    "segment_ids = [seg_1,seg_2],#,seg_3],\n",
    "    split_indexes = [split_1,split_2],#,split_3],\n",
    "    proofread_mesh_color = [\"red\",\"blue\",\"purple\"],\n",
    "    synapse_plot_type = \"valid_presyn_postsyn\",\n",
    "    plot_error_mesh = False,\n",
    "    verbose = True\n",
    "    \n",
    ")   "
   ]
  },
  {
   "cell_type": "markdown",
   "metadata": {},
   "source": [
    "# Stack together multiple visualizations (can use different parameter settings)"
   ]
  },
  {
   "cell_type": "code",
   "execution_count": null,
   "metadata": {},
   "outputs": [],
   "source": [
    "seg_1,split_1 = 864691134940132963,0\n",
    "seg_2,split_2 = 864691134964569375,0"
   ]
  },
  {
   "cell_type": "code",
   "execution_count": null,
   "metadata": {},
   "outputs": [],
   "source": [
    "pv.plot_proofread_neuron(seg_1,\n",
    "                        split_1,\n",
    "                         plot_error_mesh=True,\n",
    "                        plot_synapses=True,\n",
    "                         synapse_plot_type=\"compartment\",\n",
    "                         plot_error_synapses=False,\n",
    "                         \n",
    "                        print_spine_colors = False,\n",
    "                        print_compartment_colors = False,\n",
    "                         show_at_end = False,\n",
    "                         append_figure = False)\n",
    "\n",
    "pv.plot_proofread_neuron(seg_2,\n",
    "                        split_2,\n",
    "                         plot_error_mesh=False,\n",
    "                        plot_synapses=True,\n",
    "                         synapse_plot_type=\"valid_presyn_postsyn\",\n",
    "                         plot_error_synapses=False,\n",
    "                         \n",
    "                         show_at_end = True,\n",
    "                         append_figure = True)\n",
    "                         "
   ]
  },
  {
   "cell_type": "code",
   "execution_count": null,
   "metadata": {},
   "outputs": [],
   "source": []
  }
 ],
 "metadata": {
  "kernelspec": {
   "display_name": "Python 3",
   "language": "python",
   "name": "python3"
  },
  "language_info": {
   "codemirror_mode": {
    "name": "ipython",
    "version": 3
   },
   "file_extension": ".py",
   "mimetype": "text/x-python",
   "name": "python",
   "nbconvert_exporter": "python",
   "pygments_lexer": "ipython3",
   "version": "3.6.9"
  }
 },
 "nbformat": 4,
 "nbformat_minor": 4
}
