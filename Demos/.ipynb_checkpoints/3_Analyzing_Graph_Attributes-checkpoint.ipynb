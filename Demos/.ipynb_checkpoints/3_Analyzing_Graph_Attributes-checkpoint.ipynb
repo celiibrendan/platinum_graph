{
 "cells": [
  {
   "cell_type": "code",
   "execution_count": 1,
   "metadata": {},
   "outputs": [],
   "source": [
    "%load_ext autoreload\n",
    "%autoreload 2"
   ]
  },
  {
   "cell_type": "code",
   "execution_count": 2,
   "metadata": {},
   "outputs": [],
   "source": [
    "from os import sys\n",
    "sys.path.append(\"/meshAfterParty/meshAfterParty/\")"
   ]
  },
  {
   "cell_type": "code",
   "execution_count": 3,
   "metadata": {},
   "outputs": [
    {
     "name": "stderr",
     "output_type": "stream",
     "text": [
      "INFO - 2021-09-21 19:54:15,714 - settings - Setting database.host to at-database.ad.bcm.edu\n",
      "INFO - 2021-09-21 19:54:15,716 - settings - Setting database.user to celiib\n",
      "INFO - 2021-09-21 19:54:15,717 - settings - Setting database.password to newceliipass\n",
      "INFO - 2021-09-21 19:54:15,718 - settings - Setting database.host to at-database.ad.bcm.edu\n",
      "INFO - 2021-09-21 19:54:15,719 - settings - Setting database.user to celiib\n",
      "INFO - 2021-09-21 19:54:15,720 - settings - Setting database.password to newceliipass\n",
      "INFO - 2021-09-21 19:54:15,732 - settings - Setting stores to {'minnie65': {'protocol': 'file', 'location': '/mnt/dj-stor01/platinum/minnie65', 'stage': '/mnt/dj-stor01/platinum/minnie65'}, 'meshes': {'protocol': 'file', 'location': '/mnt/dj-stor01/platinum/minnie65/02/meshes', 'stage': '/mnt/dj-stor01/platinum/minnie65/02/meshes'}, 'decimated_meshes': {'protocol': 'file', 'location': '/mnt/dj-stor01/platinum/minnie65/02/decimated_meshes', 'stage': '/mnt/dj-stor01/platinum/minnie65/02/decimated_meshes'}, 'skeletons': {'protocol': 'file', 'location': '/mnt/dj-stor01/platinum/minnie65/02/skeletons'}}\n",
      "INFO - 2021-09-21 19:54:15,733 - settings - Setting enable_python_native_blobs to True\n",
      "INFO - 2021-09-21 19:54:15,747 - connection - Connected celiib@at-database.ad.bcm.edu:3306\n"
     ]
    },
    {
     "name": "stdout",
     "output_type": "stream",
     "text": [
      "Connecting celiib@at-database.ad.bcm.edu:3306\n"
     ]
    },
    {
     "name": "stderr",
     "output_type": "stream",
     "text": [
      "INFO - 2021-09-21 19:54:16,466 - settings - Setting enable_python_native_blobs to True\n",
      "INFO - 2021-09-21 19:54:16,529 - settings - Setting database.host to at-database.ad.bcm.edu\n",
      "INFO - 2021-09-21 19:54:16,531 - settings - Setting database.user to celiib\n",
      "INFO - 2021-09-21 19:54:16,532 - settings - Setting database.password to newceliipass\n",
      "INFO - 2021-09-21 19:54:16,533 - settings - Setting enable_python_native_blobs to True\n",
      "INFO - 2021-09-21 19:54:17,293 - settings - Setting enable_python_native_blobs to True\n",
      "INFO - 2021-09-21 19:54:17,359 - settings - Setting database.host to at-database.ad.bcm.edu\n",
      "INFO - 2021-09-21 19:54:17,361 - settings - Setting database.user to celiib\n",
      "INFO - 2021-09-21 19:54:17,361 - settings - Setting database.password to newceliipass\n",
      "INFO - 2021-09-21 19:54:17,362 - settings - Setting database.host to at-database.ad.bcm.edu\n",
      "INFO - 2021-09-21 19:54:17,363 - settings - Setting database.user to celiib\n",
      "INFO - 2021-09-21 19:54:17,364 - settings - Setting database.password to newceliipass\n",
      "INFO - 2021-09-21 19:54:17,367 - settings - Setting enable_python_native_blobs to True\n",
      "INFO - 2021-09-21 19:54:18,209 - settings - Setting enable_python_native_blobs to True\n"
     ]
    }
   ],
   "source": [
    "import datajoint_utils as du\n",
    "import neuron_visualizations as nviz\n",
    "import proofread_verification as pv\n",
    "import networkx_utils as xu"
   ]
  },
  {
   "cell_type": "markdown",
   "metadata": {},
   "source": [
    "# Loading the Graph"
   ]
  },
  {
   "cell_type": "code",
   "execution_count": null,
   "metadata": {},
   "outputs": [],
   "source": [
    "import system_utils as su\n",
    "G = su.decompress_pickle(\"/platinum_graph/Data/G_query_v6.pbz2\")"
   ]
  },
  {
   "cell_type": "markdown",
   "metadata": {},
   "source": [
    "# Edge Attributes"
   ]
  },
  {
   "cell_type": "code",
   "execution_count": null,
   "metadata": {},
   "outputs": [],
   "source": [
    "segment_ids = [\"864691136830770542_0\",\"864691136881594990_0\"]\n",
    "G[\"864691136830770542_0\"][\"864691136881594990_0\"]"
   ]
  },
  {
   "cell_type": "markdown",
   "metadata": {},
   "source": [
    "# Soma Soma Skeletal Distance vs Euclidean Across Syanpses"
   ]
  },
  {
   "cell_type": "code",
   "execution_count": null,
   "metadata": {},
   "outputs": [],
   "source": [
    "from tqdm_utils import tqdm"
   ]
  },
  {
   "cell_type": "code",
   "execution_count": null,
   "metadata": {},
   "outputs": [],
   "source": [
    "attr_to_gather = dict(presyn_soma_postsyn_soma_euclid_dist = [],\n",
    "                     presyn_soma_postsyn_soma_skeletal_dist = [])\n",
    "for presyn in tqdm(G.nodes()):\n",
    "    for postsyn in G[presyn]:\n",
    "        e_dict = dict(G[presyn][postsyn])\n",
    "        for edge_idx,edge_attr in e_dict.items():\n",
    "            for k in attr_to_gather.keys():\n",
    "                attr_to_gather[k].append(edge_attr[k])"
   ]
  },
  {
   "cell_type": "code",
   "execution_count": null,
   "metadata": {},
   "outputs": [],
   "source": [
    "import matplotlib.pyplot as plt\n",
    "import numpy as np\n",
    "\n",
    "fig,ax = plt.subplots(1,1)\n",
    "\n",
    "\n",
    "x_name = \"presyn_soma_postsyn_soma_euclid_dist\"\n",
    "y_name = \"presyn_soma_postsyn_soma_skeletal_dist\"\n",
    "ax.scatter(np.array(attr_to_gather[x_name])/1000,\n",
    "          np.array(attr_to_gather[y_name])/1000)\n",
    "\n",
    "ax.set_xlabel(x_name + \" (um)\")\n",
    "ax.set_ylabel( y_name + \" (um)\")"
   ]
  },
  {
   "cell_type": "code",
   "execution_count": null,
   "metadata": {},
   "outputs": [],
   "source": []
  },
  {
   "cell_type": "code",
   "execution_count": null,
   "metadata": {},
   "outputs": [],
   "source": []
  },
  {
   "cell_type": "code",
   "execution_count": null,
   "metadata": {},
   "outputs": [],
   "source": []
  }
 ],
 "metadata": {
  "kernelspec": {
   "display_name": "Python 3",
   "language": "python",
   "name": "python3"
  },
  "language_info": {
   "codemirror_mode": {
    "name": "ipython",
    "version": 3
   },
   "file_extension": ".py",
   "mimetype": "text/x-python",
   "name": "python",
   "nbconvert_exporter": "python",
   "pygments_lexer": "ipython3",
   "version": "3.6.9"
  }
 },
 "nbformat": 4,
 "nbformat_minor": 4
}
