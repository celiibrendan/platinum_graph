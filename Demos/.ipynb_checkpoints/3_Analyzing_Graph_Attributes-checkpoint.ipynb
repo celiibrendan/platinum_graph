{
 "cells": [
  {
   "cell_type": "code",
   "execution_count": 1,
   "metadata": {},
   "outputs": [],
   "source": [
    "%load_ext autoreload\n",
    "%autoreload 2"
   ]
  },
  {
   "cell_type": "code",
   "execution_count": 2,
   "metadata": {},
   "outputs": [],
   "source": [
    "from os import sys\n",
    "sys.path.append(\"/meshAfterParty/meshAfterParty/\")"
   ]
  },
  {
   "cell_type": "code",
   "execution_count": 3,
   "metadata": {},
   "outputs": [
    {
     "name": "stderr",
     "output_type": "stream",
     "text": [
      "INFO - 2021-09-21 19:54:15,714 - settings - Setting database.host to at-database.ad.bcm.edu\n",
      "INFO - 2021-09-21 19:54:15,716 - settings - Setting database.user to celiib\n",
      "INFO - 2021-09-21 19:54:15,717 - settings - Setting database.password to newceliipass\n",
      "INFO - 2021-09-21 19:54:15,718 - settings - Setting database.host to at-database.ad.bcm.edu\n",
      "INFO - 2021-09-21 19:54:15,719 - settings - Setting database.user to celiib\n",
      "INFO - 2021-09-21 19:54:15,720 - settings - Setting database.password to newceliipass\n",
      "INFO - 2021-09-21 19:54:15,732 - settings - Setting stores to {'minnie65': {'protocol': 'file', 'location': '/mnt/dj-stor01/platinum/minnie65', 'stage': '/mnt/dj-stor01/platinum/minnie65'}, 'meshes': {'protocol': 'file', 'location': '/mnt/dj-stor01/platinum/minnie65/02/meshes', 'stage': '/mnt/dj-stor01/platinum/minnie65/02/meshes'}, 'decimated_meshes': {'protocol': 'file', 'location': '/mnt/dj-stor01/platinum/minnie65/02/decimated_meshes', 'stage': '/mnt/dj-stor01/platinum/minnie65/02/decimated_meshes'}, 'skeletons': {'protocol': 'file', 'location': '/mnt/dj-stor01/platinum/minnie65/02/skeletons'}}\n",
      "INFO - 2021-09-21 19:54:15,733 - settings - Setting enable_python_native_blobs to True\n",
      "INFO - 2021-09-21 19:54:15,747 - connection - Connected celiib@at-database.ad.bcm.edu:3306\n"
     ]
    },
    {
     "name": "stdout",
     "output_type": "stream",
     "text": [
      "Connecting celiib@at-database.ad.bcm.edu:3306\n"
     ]
    },
    {
     "name": "stderr",
     "output_type": "stream",
     "text": [
      "INFO - 2021-09-21 19:54:16,466 - settings - Setting enable_python_native_blobs to True\n",
      "INFO - 2021-09-21 19:54:16,529 - settings - Setting database.host to at-database.ad.bcm.edu\n",
      "INFO - 2021-09-21 19:54:16,531 - settings - Setting database.user to celiib\n",
      "INFO - 2021-09-21 19:54:16,532 - settings - Setting database.password to newceliipass\n",
      "INFO - 2021-09-21 19:54:16,533 - settings - Setting enable_python_native_blobs to True\n",
      "INFO - 2021-09-21 19:54:17,293 - settings - Setting enable_python_native_blobs to True\n",
      "INFO - 2021-09-21 19:54:17,359 - settings - Setting database.host to at-database.ad.bcm.edu\n",
      "INFO - 2021-09-21 19:54:17,361 - settings - Setting database.user to celiib\n",
      "INFO - 2021-09-21 19:54:17,361 - settings - Setting database.password to newceliipass\n",
      "INFO - 2021-09-21 19:54:17,362 - settings - Setting database.host to at-database.ad.bcm.edu\n",
      "INFO - 2021-09-21 19:54:17,363 - settings - Setting database.user to celiib\n",
      "INFO - 2021-09-21 19:54:17,364 - settings - Setting database.password to newceliipass\n",
      "INFO - 2021-09-21 19:54:17,367 - settings - Setting enable_python_native_blobs to True\n",
      "INFO - 2021-09-21 19:54:18,209 - settings - Setting enable_python_native_blobs to True\n"
     ]
    }
   ],
   "source": [
    "import datajoint_utils as du\n",
    "import neuron_visualizations as nviz\n",
    "import proofread_verification as pv\n",
    "import networkx_utils as xu"
   ]
  },
  {
   "cell_type": "code",
   "execution_count": null,
   "metadata": {},
   "outputs": [],
   "source": [
    "import allen_utils as alu\n",
    "alu.initialize_client()\n",
    "alu.set_client_version()"
   ]
  },
  {
   "cell_type": "markdown",
   "metadata": {},
   "source": [
    "# Loading the Graph"
   ]
  },
  {
   "cell_type": "code",
   "execution_count": 5,
   "metadata": {},
   "outputs": [],
   "source": [
    "import system_utils as su\n",
    "G = su.decompress_pickle(\"/platinum_graph/Data/G_query_v6_filtered.pbz2\")"
   ]
  },
  {
   "cell_type": "markdown",
   "metadata": {},
   "source": [
    "# Edge Attributes"
   ]
  },
  {
   "cell_type": "code",
   "execution_count": 6,
   "metadata": {},
   "outputs": [
    {
     "data": {
      "text/plain": [
       "AtlasView({0: {'postsyn_branch_idx': 1.0, 'postsyn_compartment_coarse': 'dendrite', 'postsyn_compartment_fine': 'basal', 'postsyn_limb_idx': 2.0, 'postsyn_nucleus_id': 431048, 'postsyn_skeletal_distance_to_soma': 21029.669921875, 'postsyn_spine_bouton': 'shaft', 'presyn_branch_idx': 211.0, 'presyn_compartment_coarse': 'axon', 'presyn_compartment_fine': nan, 'presyn_limb_idx': 0.0, 'presyn_nucleus_id': 432811, 'presyn_skeletal_distance_to_soma': 189499.3125, 'presyn_spine_bouton': 'bouton', 'proof_type': 'auto', 'synapse_id': 299949435, 'synapse_size': 2092, 'synapse_x': 259684, 'synapse_y': 185164, 'synapse_z': 24809, 'presyn_soma_euclid_dist': 50176.854903431326, 'postsyn_soma_euclid_dist': 28741.23810833486, 'presyn_soma_postsyn_soma_euclid_dist': 64384.34356270164, 'presyn_soma_postsyn_soma_skeletal_dist': 210528.982421875}})"
      ]
     },
     "execution_count": 6,
     "metadata": {},
     "output_type": "execute_result"
    }
   ],
   "source": [
    "segment_ids = [\"864691136830770542_0\",\"864691136881594990_0\"]\n",
    "G[\"864691136830770542_0\"][\"864691136881594990_0\"]"
   ]
  },
  {
   "cell_type": "markdown",
   "metadata": {},
   "source": [
    "# Soma Soma Skeletal Distance vs Euclidean Across Syanpses"
   ]
  },
  {
   "cell_type": "code",
   "execution_count": 7,
   "metadata": {},
   "outputs": [],
   "source": [
    "from tqdm_utils import tqdm"
   ]
  },
  {
   "cell_type": "code",
   "execution_count": 8,
   "metadata": {},
   "outputs": [
    {
     "data": {
      "application/vnd.jupyter.widget-view+json": {
       "model_id": "ba7a704958ad40e4a03103309c092645",
       "version_major": 2,
       "version_minor": 0
      },
      "text/plain": [
       "  0%|          | 0/68001 [00:00<?, ?it/s]"
      ]
     },
     "metadata": {},
     "output_type": "display_data"
    }
   ],
   "source": [
    "attr_to_gather = dict(presyn_soma_postsyn_soma_euclid_dist = [],\n",
    "                     presyn_soma_postsyn_soma_skeletal_dist = [])\n",
    "for presyn in tqdm(G.nodes()):\n",
    "    for postsyn in G[presyn]:\n",
    "        e_dict = dict(G[presyn][postsyn])\n",
    "        for edge_idx,edge_attr in e_dict.items():\n",
    "            for k in attr_to_gather.keys():\n",
    "                attr_to_gather[k].append(edge_attr[k])"
   ]
  },
  {
   "cell_type": "code",
   "execution_count": 9,
   "metadata": {},
   "outputs": [
    {
     "data": {
      "text/plain": [
       "Text(0, 0.5, 'presyn_soma_postsyn_soma_skeletal_dist (um)')"
      ]
     },
     "execution_count": 9,
     "metadata": {},
     "output_type": "execute_result"
    },
    {
     "data": {
      "image/png": "[encoded data removed]",
      "text/plain": [
       "<Figure size 432x288 with 1 Axes>"
      ]
     },
     "metadata": {
      "needs_background": "light"
     },
     "output_type": "display_data"
    }
   ],
   "source": [
    "import matplotlib.pyplot as plt\n",
    "import numpy as np\n",
    "\n",
    "fig,ax = plt.subplots(1,1)\n",
    "\n",
    "\n",
    "x_name = \"presyn_soma_postsyn_soma_euclid_dist\"\n",
    "y_name = \"presyn_soma_postsyn_soma_skeletal_dist\"\n",
    "ax.scatter(np.array(attr_to_gather[x_name])/1000,\n",
    "          np.array(attr_to_gather[y_name])/1000)\n",
    "\n",
    "ax.set_xlabel(x_name + \" (um)\")\n",
    "ax.set_ylabel( y_name + \" (um)\")"
   ]
  },
  {
   "cell_type": "code",
   "execution_count": null,
   "metadata": {},
   "outputs": [],
   "source": []
  },
  {
   "cell_type": "code",
   "execution_count": null,
   "metadata": {},
   "outputs": [],
   "source": []
  },
  {
   "cell_type": "code",
   "execution_count": null,
   "metadata": {},
   "outputs": [],
   "source": []
  }
 ],
 "metadata": {
  "kernelspec": {
   "display_name": "Python 3",
   "language": "python",
   "name": "python3"
  },
  "language_info": {
   "codemirror_mode": {
    "name": "ipython",
    "version": 3
   },
   "file_extension": ".py",
   "mimetype": "text/x-python",
   "name": "python",
   "nbconvert_exporter": "python",
   "pygments_lexer": "ipython3",
   "version": "3.6.9"
  }
 },
 "nbformat": 4,
 "nbformat_minor": 4
}
