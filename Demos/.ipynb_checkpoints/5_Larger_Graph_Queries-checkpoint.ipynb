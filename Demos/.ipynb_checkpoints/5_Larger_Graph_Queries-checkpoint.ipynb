{
 "cells": [
  {
   "cell_type": "code",
   "execution_count": 1,
   "metadata": {},
   "outputs": [
    {
     "data": {
      "text/plain": [
       "'\\nPurpose: To try the Grandiso Executor\\nfro quicker graph queryies\\n\\n'"
      ]
     },
     "execution_count": 1,
     "metadata": {},
     "output_type": "execute_result"
    }
   ],
   "source": [
    "\"\"\"\n",
    "Purpose: To try the Grandiso Executor\n",
    "fro quicker graph queryies using the \n",
    "GranIso Executor\n",
    "\n",
    "\"\"\""
   ]
  },
  {
   "cell_type": "code",
   "execution_count": 2,
   "metadata": {},
   "outputs": [],
   "source": [
    "%load_ext autoreload\n",
    "%autoreload 2"
   ]
  },
  {
   "cell_type": "code",
   "execution_count": 3,
   "metadata": {},
   "outputs": [],
   "source": [
    "from os import sys\n",
    "sys.path.append(\"/meshAfterParty/meshAfterParty/\")"
   ]
  },
  {
   "cell_type": "markdown",
   "metadata": {},
   "source": [
    "# Testing out the GrandIso Executor"
   ]
  },
  {
   "cell_type": "code",
   "execution_count": 4,
   "metadata": {},
   "outputs": [
    {
     "data": {
      "text/plain": [
       "[{'A': 1, 'B': 2, 'C': 3}]"
      ]
     },
     "execution_count": 4,
     "metadata": {},
     "output_type": "execute_result"
    },
    {
     "data": {
      "image/png": "[encoded data removed]",
      "text/plain": [
       "<Figure size 432x288 with 1 Axes>"
      ]
     },
     "metadata": {},
     "output_type": "display_data"
    }
   ],
   "source": [
    "from dotmotif import Motif, GrandIsoExecutor, NetworkXExecutor\n",
    "\n",
    "import networkx as nx\n",
    "G = nx.MultiDiGraph()\n",
    "G.add_weighted_edges_from([[1,2,11],[1,2,5],[2,3,10]])\n",
    "nx.draw(G,with_labels=True)\n",
    "\n",
    "motif = Motif('''\n",
    "A -> B [weight = 11]\n",
    "B -> C\n",
    "''')\n",
    "\n",
    "E = GrandIsoExecutor(graph=G,multigraph_edge_match=\"any\")\n",
    "\n",
    "results = E.find(motif)\n",
    "results"
   ]
  },
  {
   "cell_type": "markdown",
   "metadata": {},
   "source": [
    "# Loading the Platinum Graph"
   ]
  },
  {
   "cell_type": "code",
   "execution_count": 5,
   "metadata": {},
   "outputs": [],
   "source": [
    "import system_utils as su\n",
    "G = su.decompress_pickle(\"/platinum_graph/Data/G_query_v6_filtered.pbz2\")"
   ]
  },
  {
   "cell_type": "code",
   "execution_count": 6,
   "metadata": {},
   "outputs": [
    {
     "name": "stdout",
     "output_type": "stream",
     "text": [
      " Graph: # of nodes = 57458, # of edges = 1904155\n"
     ]
    }
   ],
   "source": [
    "import networkx_utils as xu\n",
    "xu.print_node_edges_counts(G)"
   ]
  },
  {
   "cell_type": "markdown",
   "metadata": {},
   "source": [
    "# Using GrandIso Executor (Faster)"
   ]
  },
  {
   "cell_type": "code",
   "execution_count": 7,
   "metadata": {},
   "outputs": [
    {
     "data": {
      "text/plain": [
       "<networkx.classes.multidigraph.MultiDiGraph at 0x7ff27ab6b0b8>"
      ]
     },
     "execution_count": 7,
     "metadata": {},
     "output_type": "execute_result"
    }
   ],
   "source": [
    "G_inh = xu.subgraph_from_node_query(G,query=\"cell_type == 'inhibitory'\")"
   ]
  },
  {
   "cell_type": "code",
   "execution_count": 8,
   "metadata": {},
   "outputs": [
    {
     "name": "stdout",
     "output_type": "stream",
     "text": [
      " Graph: # of nodes = 5627, # of edges = 127726\n"
     ]
    }
   ],
   "source": [
    "xu.print_node_edges_counts(G_inh)"
   ]
  },
  {
   "cell_type": "code",
   "execution_count": 10,
   "metadata": {},
   "outputs": [
    {
     "name": "stdout",
     "output_type": "stream",
     "text": [
      "type(Excecutor) = <class 'dotmotif.executors.GrandIsoExecutor.GrandIsoExecutor'>\n",
      "# of matches = 92658\n",
      "total time: 304.95701360702515\n",
      "Total Time for GrandIsoExecutor = 304.97657012939453\n"
     ]
    }
   ],
   "source": [
    "import dotmotif_utils as dmu\n",
    "E = GrandIsoExecutor(graph=G_inh,multigraph_edge_match=\"any\")\n",
    "\n",
    "motif = \"\"\"\n",
    "A -> B \n",
    "B -> C\n",
    "C -> A\n",
    "\"\"\"\n",
    "import time\n",
    "st = time.time()\n",
    "\n",
    "triangle_simple = dmu.graph_search(motif,\n",
    "                Executor=E,\n",
    "                G = G,\n",
    "                verbose = True)\n",
    "\n",
    "print(f\"Total Time for GrandIsoExecutor = {time.time()- st}\")"
   ]
  },
  {
   "cell_type": "markdown",
   "metadata": {},
   "source": [
    "# Using Networkx Executor (Slower)"
   ]
  },
  {
   "cell_type": "code",
   "execution_count": 11,
   "metadata": {},
   "outputs": [
    {
     "name": "stdout",
     "output_type": "stream",
     "text": [
      "type(Excecutor) = <class 'dotmotif.executors.NetworkXExecutor.NetworkXExecutor'>\n",
      "# of matches = 92658\n",
      "total time: 413.2253336906433\n",
      "Total Time for GrandIsoExecutor = 413.2455310821533\n"
     ]
    }
   ],
   "source": [
    "import dotmotif_utils as dmu\n",
    "E = NetworkXExecutor(graph=G_inh,multigraph_edge_match=\"any\")\n",
    "\n",
    "motif = \"\"\"\n",
    "A -> B \n",
    "B -> C\n",
    "C -> A\n",
    "\"\"\"\n",
    "import time\n",
    "st = time.time()\n",
    "\n",
    "dmu.graph_search(motif,\n",
    "                Executor=E,\n",
    "                G = G,\n",
    "                verbose = True)\n",
    "\n",
    "print(f\"Total Time for GrandIsoExecutor = {time.time()- st}\")"
   ]
  },
  {
   "cell_type": "code",
   "execution_count": null,
   "metadata": {},
   "outputs": [],
   "source": []
  }
 ],
 "metadata": {
  "kernelspec": {
   "display_name": "Python 3",
   "language": "python",
   "name": "python3"
  },
  "language_info": {
   "codemirror_mode": {
    "name": "ipython",
    "version": 3
   },
   "file_extension": ".py",
   "mimetype": "text/x-python",
   "name": "python",
   "nbconvert_exporter": "python",
   "pygments_lexer": "ipython3",
   "version": "3.6.9"
  }
 },
 "nbformat": 4,
 "nbformat_minor": 4
}
